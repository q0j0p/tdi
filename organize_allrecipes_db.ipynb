{
 "cells": [
  {
   "cell_type": "markdown",
   "metadata": {},
   "source": [
    "# Organize allrecipes database \n",
    "- Create appropriate unique indices (based on recipe_ID, member_ID, etc. ) \n",
    "- Check number of documents\n",
    "\n",
    "# Issues: \n",
    "- There is a 20 item limit for each webpage pertaining to a member (e.g. \"favorites\": maximum of 20 are displayed on page).  "
   ]
  },
  {
   "cell_type": "code",
   "execution_count": 1,
   "metadata": {
    "ExecuteTime": {
     "end_time": "2017-06-26T20:56:57.914598Z",
     "start_time": "2017-06-26T20:56:57.251334Z"
    },
    "collapsed": true
   },
   "outputs": [],
   "source": [
    "import pymongo \n",
    "client = pymongo.MongoClient(\"mongodb://localhost:27017/\")\n",
    "allrecipes_db = client.allrecipes\n",
    "member_pages_coll = allrecipes_db.member_pages\n",
    "members_coll = allrecipes_db.members\n",
    "recipes_coll = allrecipes_db.recipes\n",
    "about_coll = allrecipes_db.about"
   ]
  },
  {
   "cell_type": "code",
   "execution_count": 2,
   "metadata": {
    "ExecuteTime": {
     "end_time": "2017-06-26T20:56:59.645960Z",
     "start_time": "2017-06-26T20:56:59.598965Z"
    }
   },
   "outputs": [],
   "source": [
    "# Create appropriate unique indices (based on recipe_ID, member_ID, etc. )\n",
    "# member_pages_coll.create_index([('member_ID',pymongo.ASCENDING)], unique=True)\n",
    "# members_coll.create_index([('member_ID',pymongo.ASCENDING)], unique=True)\n",
    "# recipes_coll.create_index([('recipe_ID',pymongo.ASCENDING)], unique=True)"
   ]
  },
  {
   "cell_type": "code",
   "execution_count": 3,
   "metadata": {
    "ExecuteTime": {
     "end_time": "2017-06-26T20:57:00.794907Z",
     "start_time": "2017-06-26T20:57:00.732093Z"
    }
   },
   "outputs": [
    {
     "name": "stdout",
     "output_type": "stream",
     "text": [
      "1430\n",
      "1430\n",
      "11111\n"
     ]
    }
   ],
   "source": [
    "print member_pages_coll.count()\n",
    "print members_coll.count()\n",
    "print recipes_coll.count()\n"
   ]
  },
  {
   "cell_type": "code",
   "execution_count": 4,
   "metadata": {
    "ExecuteTime": {
     "end_time": "2017-06-26T20:57:02.375576Z",
     "start_time": "2017-06-26T20:57:02.219222Z"
    },
    "collapsed": true
   },
   "outputs": [],
   "source": [
    "member_page_keys = member_pages_coll.find_one().keys()"
   ]
  },
  {
   "cell_type": "code",
   "execution_count": 5,
   "metadata": {
    "ExecuteTime": {
     "end_time": "2017-06-26T20:57:03.692686Z",
     "start_time": "2017-06-26T20:57:03.633729Z"
    }
   },
   "outputs": [
    {
     "data": {
      "text/plain": [
       "[u'favorites_page',\n",
       " u'following_page',\n",
       " u'reviews_page',\n",
       " u'aboutme_page',\n",
       " u'madeit_page',\n",
       " u'link',\n",
       " u'member_ID',\n",
       " u'followers_page',\n",
       " u'_id',\n",
       " u'recipes_page']"
      ]
     },
     "execution_count": 5,
     "metadata": {},
     "output_type": "execute_result"
    }
   ],
   "source": [
    "member_page_keys"
   ]
  },
  {
   "cell_type": "code",
   "execution_count": 8,
   "metadata": {
    "ExecuteTime": {
     "end_time": "2017-06-26T20:57:27.299110Z",
     "start_time": "2017-06-26T20:57:27.212550Z"
    }
   },
   "outputs": [
    {
     "data": {
      "text/plain": [
       "[u'nutrition',\n",
       " u'followers_dict',\n",
       " u'reviews_dict',\n",
       " u'following_id_list',\n",
       " u'madeits_recipe_id_list',\n",
       " u'favorites_dict',\n",
       " u'reviews_recipe_id_list',\n",
       " u'nutrition_avg_vals',\n",
       " u'following_dict',\n",
       " u'member_ID',\n",
       " u'favorites_recipe_id_list',\n",
       " u'_id',\n",
       " u'aboutme',\n",
       " u'madeits_dict',\n",
       " u'followers_id_list']"
      ]
     },
     "execution_count": 8,
     "metadata": {},
     "output_type": "execute_result"
    }
   ],
   "source": [
    "member_keys = members_coll.find_one({'followers_dict':{\"$exists\":True}}).keys()\n",
    "member_keys"
   ]
  },
  {
   "cell_type": "code",
   "execution_count": 9,
   "metadata": {
    "ExecuteTime": {
     "end_time": "2017-06-26T20:57:35.570064Z",
     "start_time": "2017-06-26T20:57:35.513080Z"
    }
   },
   "outputs": [
    {
     "data": {
      "text/plain": [
       "[u'Cholesterol',\n",
       " u'nutrition',\n",
       " u'Carbs',\n",
       " u'recipe_times',\n",
       " u'nutrition_elements',\n",
       " u'Sodium',\n",
       " u'name',\n",
       " u'nutrition_serving_info',\n",
       " u'description',\n",
       " u'Calories',\n",
       " u'Fat',\n",
       " u'servings_config',\n",
       " u'recipe_ID',\n",
       " u'rating_list',\n",
       " u'servings',\n",
       " u'nutrition_info',\n",
       " u'Protein',\n",
       " u'_id',\n",
       " u'page',\n",
       " u'directions_list',\n",
       " u'ingredients_list']"
      ]
     },
     "execution_count": 9,
     "metadata": {},
     "output_type": "execute_result"
    }
   ],
   "source": [
    "recipe_keys = recipes_coll.find_one().keys()\n",
    "recipe_keys"
   ]
  },
  {
   "cell_type": "code",
   "execution_count": 10,
   "metadata": {
    "ExecuteTime": {
     "end_time": "2017-06-26T20:57:43.693570Z",
     "start_time": "2017-06-26T20:57:43.654752Z"
    },
    "collapsed": true,
    "scrolled": false
   },
   "outputs": [],
   "source": [
    "member_essentials = set(member_keys) - set(member_page_keys)"
   ]
  },
  {
   "cell_type": "code",
   "execution_count": 11,
   "metadata": {
    "ExecuteTime": {
     "end_time": "2017-06-26T20:57:45.587212Z",
     "start_time": "2017-06-26T20:57:45.541827Z"
    },
    "scrolled": true
   },
   "outputs": [
    {
     "data": {
      "text/plain": [
       "{u'aboutme',\n",
       " u'favorites_dict',\n",
       " u'favorites_recipe_id_list',\n",
       " u'followers_dict',\n",
       " u'followers_id_list',\n",
       " u'following_dict',\n",
       " u'following_id_list',\n",
       " u'madeits_dict',\n",
       " u'madeits_recipe_id_list',\n",
       " u'nutrition',\n",
       " u'nutrition_avg_vals',\n",
       " u'reviews_dict',\n",
       " u'reviews_recipe_id_list'}"
      ]
     },
     "execution_count": 11,
     "metadata": {},
     "output_type": "execute_result"
    }
   ],
   "source": [
    "# These are the field required fomr members\n",
    "member_essentials"
   ]
  },
  {
   "cell_type": "code",
   "execution_count": 12,
   "metadata": {
    "ExecuteTime": {
     "end_time": "2017-06-26T20:58:40.413462Z",
     "start_time": "2017-06-26T20:57:49.117904Z"
    },
    "collapsed": true
   },
   "outputs": [],
   "source": [
    "pages_list = [a['member_ID'] for a in member_pages_coll.find({\"member_ID\":{\"$exists\":True}})]\n",
    "mems_list = [a['member_ID'] for a in members_coll.find({\"member_ID\":{\"$exists\":True}})]"
   ]
  },
  {
   "cell_type": "code",
   "execution_count": 13,
   "metadata": {
    "ExecuteTime": {
     "end_time": "2017-06-26T20:58:40.720761Z",
     "start_time": "2017-06-26T20:58:40.416260Z"
    },
    "collapsed": true
   },
   "outputs": [],
   "source": [
    "hit_list = set(pages_list) - set(mems_list)"
   ]
  },
  {
   "cell_type": "code",
   "execution_count": 14,
   "metadata": {
    "ExecuteTime": {
     "end_time": "2017-06-26T20:58:40.804265Z",
     "start_time": "2017-06-26T20:58:40.726753Z"
    }
   },
   "outputs": [
    {
     "data": {
      "text/plain": [
       "0"
      ]
     },
     "execution_count": 14,
     "metadata": {},
     "output_type": "execute_result"
    }
   ],
   "source": [
    "len(hit_list)"
   ]
  },
  {
   "cell_type": "code",
   "execution_count": 15,
   "metadata": {
    "ExecuteTime": {
     "end_time": "2017-06-26T20:58:41.017017Z",
     "start_time": "2017-06-26T20:58:40.821764Z"
    },
    "collapsed": true
   },
   "outputs": [],
   "source": [
    "r_hit_list = set(mems_list) - set(pages_list)"
   ]
  },
  {
   "cell_type": "code",
   "execution_count": 16,
   "metadata": {
    "ExecuteTime": {
     "end_time": "2017-06-26T20:58:41.206690Z",
     "start_time": "2017-06-26T20:58:41.022871Z"
    }
   },
   "outputs": [
    {
     "data": {
      "text/plain": [
       "0"
      ]
     },
     "execution_count": 16,
     "metadata": {},
     "output_type": "execute_result"
    }
   ],
   "source": [
    "len(r_hit_list)"
   ]
  },
  {
   "cell_type": "code",
   "execution_count": 17,
   "metadata": {
    "ExecuteTime": {
     "end_time": "2017-06-26T20:58:47.426486Z",
     "start_time": "2017-06-26T20:58:41.238906Z"
    },
    "scrolled": true
   },
   "outputs": [
    {
     "data": {
      "text/plain": [
       "['__init__',\n",
       " 'get_community_members',\n",
       " 'get_community_members_continue',\n",
       " 'get_community_page_scrolled',\n",
       " 'get_member_pages',\n",
       " 'get_page_from_list',\n",
       " 'use_firefox',\n",
       " 'use_phantom']"
      ]
     },
     "execution_count": 17,
     "metadata": {},
     "output_type": "execute_result"
    }
   ],
   "source": [
    "import sys \n",
    "sys.path.insert(0,'../..')\n",
    "import main\n",
    "import inspect\n",
    "# Get list of methods in `scraper`\n",
    "[a[0] for a in inspect.getmembers(main.Scraper, inspect.ismethod)]"
   ]
  },
  {
   "cell_type": "code",
   "execution_count": 18,
   "metadata": {
    "ExecuteTime": {
     "end_time": "2017-06-26T20:58:47.735652Z",
     "start_time": "2017-06-26T20:58:47.444891Z"
    },
    "scrolled": true
   },
   "outputs": [
    {
     "data": {
      "text/plain": [
       "['__init__',\n",
       " 'check_member_records',\n",
       " 'get_aboutme_data',\n",
       " 'get_all_member_nutrition_values',\n",
       " 'get_favorites_data',\n",
       " 'get_followers_data',\n",
       " 'get_following_data',\n",
       " 'get_madeits_data',\n",
       " 'get_member_list_to_parse',\n",
       " 'get_member_nutrition_summary',\n",
       " 'get_member_nutrition_values',\n",
       " 'get_member_parsed_data',\n",
       " 'get_members_aboutme_from_pkl',\n",
       " 'get_members_coll_info',\n",
       " 'get_members_favorites',\n",
       " 'get_members_followers',\n",
       " 'get_members_following',\n",
       " 'get_members_madeits',\n",
       " 'get_members_reviews',\n",
       " 'get_recipe_data',\n",
       " 'get_recipe_data_from_recipe_pages_coll',\n",
       " 'get_recipe_nutrition',\n",
       " 'get_recipe_pkl_page_from_aws',\n",
       " 'get_recipes_coll_info',\n",
       " 'get_reviews_data',\n",
       " 'insert_all_nutrition_info',\n",
       " 'parse_recipe_data']"
      ]
     },
     "execution_count": 18,
     "metadata": {},
     "output_type": "execute_result"
    }
   ],
   "source": [
    "# Get list of methods in `Parser`\n",
    "[a[0] for a in inspect.getmembers(main.Parser, inspect.ismethod)]"
   ]
  },
  {
   "cell_type": "code",
   "execution_count": 19,
   "metadata": {
    "ExecuteTime": {
     "end_time": "2017-06-26T20:59:12.178821Z",
     "start_time": "2017-06-26T20:59:12.080541Z"
    },
    "scrolled": false
   },
   "outputs": [
    {
     "name": "stdout",
     "output_type": "stream",
     "text": [
      "Connected to Database(MongoClient(host=['localhost:27017'], document_class=dict, tz_aware=False, connect=True), u'allrecipes')\n"
     ]
    }
   ],
   "source": [
    "parser1 = main.Parser()"
   ]
  },
  {
   "cell_type": "code",
   "execution_count": 20,
   "metadata": {
    "ExecuteTime": {
     "end_time": "2017-06-26T20:59:26.814096Z",
     "start_time": "2017-06-26T20:59:24.438532Z"
    }
   },
   "outputs": [
    {
     "name": "stdout",
     "output_type": "stream",
     "text": [
      "number of member_pages: 1430\n",
      "number of docs with member_IDs: 1430\n",
      "number of docs with followers_dict 1430\n",
      "number of docs with following_dict 1430\n",
      "number of docs with reviews_dict 1430\n",
      "number of docs with favorites_dict 1430\n",
      "number of docs with madeits_dict 1430\n",
      "number of docs with aboutme 1430\n",
      "number of docs with nutrition values 1430\n"
     ]
    }
   ],
   "source": [
    "parser1.get_members_coll_info()"
   ]
  },
  {
   "cell_type": "code",
   "execution_count": 21,
   "metadata": {
    "ExecuteTime": {
     "end_time": "2017-06-26T21:00:23.138687Z",
     "start_time": "2017-06-26T20:59:35.570012Z"
    }
   },
   "outputs": [
    {
     "name": "stdout",
     "output_type": "stream",
     "text": [
      "number of documents: 11111\n",
      "number of docs with pages: 9023\n",
      "number of docs with nutrition_info 11111\n",
      "number of docs with directions 10831\n",
      "number of docs with rating_list 10831\n",
      "number of docs with nutrition_elements 9757\n",
      "number of docs with itemized nutrition 9757\n",
      "number of docs with ingredients_list 10831\n"
     ]
    }
   ],
   "source": [
    "parser1.get_recipes_coll_info()"
   ]
  }
 ],
 "metadata": {
  "kernelspec": {
   "display_name": "Python [conda env:python2]",
   "language": "python",
   "name": "conda-env-python2-py"
  },
  "language_info": {
   "codemirror_mode": {
    "name": "ipython",
    "version": 2
   },
   "file_extension": ".py",
   "mimetype": "text/x-python",
   "name": "python",
   "nbconvert_exporter": "python",
   "pygments_lexer": "ipython2",
   "version": "2.7.13"
  }
 },
 "nbformat": 4,
 "nbformat_minor": 2
}
